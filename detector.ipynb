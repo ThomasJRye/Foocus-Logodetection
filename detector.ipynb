{
 "cells": [
  {
   "cell_type": "code",
   "execution_count": null,
   "metadata": {},
   "outputs": [],
   "source": [
    "import torch\n",
    "import torchvision\n",
    "import torchvision.transforms as transforms"
   ]
  },
  {
   "cell_type": "code",
   "execution_count": 1,
   "metadata": {},
   "outputs": [],
   "source": [
    "import csv\n",
    "import json\n",
    "\n",
    "# Define the path to the COCO JSON file\n",
    "coco_json_file = \"bigData1/labels.json\"\n",
    "\n",
    "# Load the COCO JSON file\n",
    "with open(coco_json_file, \"r\") as f:\n",
    "    coco_data = json.load(f)\n",
    "\n",
    "category_counts = []\n",
    "\n",
    "# Update the category IDs\n",
    "for category in coco_data[\"categories\"]:\n",
    "    category_counts.append({\"id\": category[\"id\"], \"name\": category[\"name\"], \"count\": 0})\n",
    "\n",
    "# Update the category IDs in the annotations\n",
    "for annotation in coco_data[\"annotations\"]:\n",
    "    for category in category_counts:\n",
    "        if category[\"id\"] == annotation[\"category_id\"]:\n",
    "            category[\"count\"] += 1\n",
    "\n",
    "# Save the updated COCO JSON file\n",
    "with open(\"category_counts.csv\", \"w\", newline='') as f:\n",
    "    writer = csv.writer(f)\n",
    "    writer.writerow([\"id\", \"name\", \"count\"])\n",
    "    for category in category_counts:\n",
    "        writer.writerow([category[\"id\"], category[\"name\"], category[\"count\"]])\n"
   ]
  },
  {
   "cell_type": "code",
   "execution_count": 9,
   "metadata": {},
   "outputs": [],
   "source": [
    "import pandas as pd\n",
    "\n",
    "# Read the two tables into pandas dataframes\n",
    "df1 = pd.read_csv(\"category_counts.csv\")\n",
    "df2 = pd.read_csv(\"qualiy.csv\")\n",
    "\n",
    "\n",
    "# Perform a left join on the \"name\" column\n",
    "result = pd.merge(df1, df2, on=\"name\", how=\"left\")\n",
    "\n",
    "# Save the result to a new CSV file\n",
    "result.to_csv(\"combined_table.csv\", index=False)\n"
   ]
  },
  {
   "cell_type": "code",
   "execution_count": null,
   "metadata": {},
   "outputs": [],
   "source": []
  },
  {
   "cell_type": "code",
   "execution_count": null,
   "metadata": {},
   "outputs": [],
   "source": []
  },
  {
   "cell_type": "code",
   "execution_count": null,
   "metadata": {},
   "outputs": [],
   "source": []
  },
  {
   "cell_type": "code",
   "execution_count": null,
   "metadata": {},
   "outputs": [],
   "source": []
  },
  {
   "cell_type": "code",
   "execution_count": null,
   "metadata": {},
   "outputs": [],
   "source": []
  },
  {
   "cell_type": "code",
   "execution_count": null,
   "metadata": {},
   "outputs": [],
   "source": []
  },
  {
   "cell_type": "code",
   "execution_count": null,
   "metadata": {},
   "outputs": [],
   "source": []
  },
  {
   "cell_type": "code",
   "execution_count": 2,
   "metadata": {},
   "outputs": [
    {
     "name": "stderr",
     "output_type": "stream",
     "text": [
      "Traceback (most recent call last):\n",
      "  File \"/Users/thomasrye/miniforge3/lib/python3.10/site-packages/fiftyone/service/main.py\", line 239, in <module>\n",
      "    client_monitor = ClientMonitor()\n",
      "  File \"/Users/thomasrye/miniforge3/lib/python3.10/site-packages/fiftyone/service/main.py\", line 144, in __init__\n",
      "    self.server = IPCServer.run_in_background(\n",
      "  File \"/Users/thomasrye/miniforge3/lib/python3.10/site-packages/fiftyone/service/ipc.py\", line 75, in run_in_background\n",
      "    server = cls(on_message)\n",
      "  File \"/Users/thomasrye/miniforge3/lib/python3.10/site-packages/fiftyone/service/ipc.py\", line 31, in __init__\n",
      "    super().__init__(\n",
      "  File \"/Users/thomasrye/miniforge3/lib/python3.10/socketserver.py\", line 452, in __init__\n",
      "    self.server_bind()\n",
      "  File \"/Users/thomasrye/miniforge3/lib/python3.10/socketserver.py\", line 466, in server_bind\n",
      "    self.socket.bind(self.server_address)\n",
      "socket.gaierror: [Errno 8] nodename nor servname provided, or not known\n"
     ]
    },
    {
     "ename": "ServiceListenTimeout",
     "evalue": "fiftyone.core.service.DatabaseService failed to bind to port",
     "output_type": "error",
     "traceback": [
      "\u001b[0;31m---------------------------------------------------------------------------\u001b[0m",
      "\u001b[0;31mServiceListenTimeout\u001b[0m                      Traceback (most recent call last)",
      "Cell \u001b[0;32mIn[2], line 1\u001b[0m\n\u001b[0;32m----> 1\u001b[0m \u001b[39mimport\u001b[39;00m \u001b[39mfiftyone\u001b[39;00m \u001b[39mas\u001b[39;00m \u001b[39mfo\u001b[39;00m\n\u001b[1;32m      3\u001b[0m \u001b[39m#load a dataset inside the dataset1 directory the data is of type coco\u001b[39;00m\n\u001b[1;32m      4\u001b[0m dataset \u001b[39m=\u001b[39m fo\u001b[39m.\u001b[39mDataset\u001b[39m.\u001b[39mfrom_dir(\n\u001b[1;32m      5\u001b[0m     \u001b[39mr\u001b[39m\u001b[39m\"\u001b[39m\u001b[39m/Users/thomasrye/Documents/github/Foocus-Logodetection/bigData1\u001b[39m\u001b[39m\"\u001b[39m,\n\u001b[1;32m      6\u001b[0m     fo\u001b[39m.\u001b[39mtypes\u001b[39m.\u001b[39mCOCODetectionDataset,\n\u001b[0;32m   (...)\u001b[0m\n\u001b[1;32m      9\u001b[0m \n\u001b[1;32m     10\u001b[0m )\n",
      "File \u001b[0;32m~/miniforge3/lib/python3.10/site-packages/fiftyone/__init__.py:25\u001b[0m\n\u001b[1;32m     21\u001b[0m \u001b[39mimport\u001b[39;00m \u001b[39mfiftyone\u001b[39;00m\u001b[39m.\u001b[39;00m\u001b[39mconstants\u001b[39;00m \u001b[39mas\u001b[39;00m \u001b[39m_foc\u001b[39;00m\n\u001b[1;32m     23\u001b[0m __version__ \u001b[39m=\u001b[39m _foc\u001b[39m.\u001b[39mVERSION\n\u001b[0;32m---> 25\u001b[0m \u001b[39mfrom\u001b[39;00m \u001b[39mfiftyone\u001b[39;00m\u001b[39m.\u001b[39;00m\u001b[39m__public__\u001b[39;00m \u001b[39mimport\u001b[39;00m \u001b[39m*\u001b[39m\n\u001b[1;32m     27\u001b[0m \u001b[39mimport\u001b[39;00m \u001b[39mfiftyone\u001b[39;00m\u001b[39m.\u001b[39;00m\u001b[39mcore\u001b[39;00m\u001b[39m.\u001b[39;00m\u001b[39muid\u001b[39;00m \u001b[39mas\u001b[39;00m \u001b[39m_fou\u001b[39;00m\n\u001b[1;32m     28\u001b[0m \u001b[39mimport\u001b[39;00m \u001b[39mfiftyone\u001b[39;00m\u001b[39m.\u001b[39;00m\u001b[39mcore\u001b[39;00m\u001b[39m.\u001b[39;00m\u001b[39mlogging\u001b[39;00m \u001b[39mas\u001b[39;00m \u001b[39m_fol\u001b[39;00m\n",
      "File \u001b[0;32m~/miniforge3/lib/python3.10/site-packages/fiftyone/__public__.py:15\u001b[0m\n\u001b[1;32m     12\u001b[0m annotation_config \u001b[39m=\u001b[39m _foc\u001b[39m.\u001b[39mload_annotation_config()\n\u001b[1;32m     13\u001b[0m app_config \u001b[39m=\u001b[39m _foc\u001b[39m.\u001b[39mload_app_config()\n\u001b[0;32m---> 15\u001b[0m _foo\u001b[39m.\u001b[39;49mestablish_db_conn(config)\n\u001b[1;32m     17\u001b[0m \u001b[39mfrom\u001b[39;00m \u001b[39m.\u001b[39;00m\u001b[39mcore\u001b[39;00m\u001b[39m.\u001b[39;00m\u001b[39maggregations\u001b[39;00m \u001b[39mimport\u001b[39;00m (\n\u001b[1;32m     18\u001b[0m     Aggregation,\n\u001b[1;32m     19\u001b[0m     Bounds,\n\u001b[0;32m   (...)\u001b[0m\n\u001b[1;32m     31\u001b[0m     Values,\n\u001b[1;32m     32\u001b[0m )\n\u001b[1;32m     33\u001b[0m \u001b[39mfrom\u001b[39;00m \u001b[39m.\u001b[39;00m\u001b[39mcore\u001b[39;00m\u001b[39m.\u001b[39;00m\u001b[39mcollections\u001b[39;00m \u001b[39mimport\u001b[39;00m SaveContext\n",
      "File \u001b[0;32m~/miniforge3/lib/python3.10/site-packages/fiftyone/core/odm/database.py:196\u001b[0m, in \u001b[0;36mestablish_db_conn\u001b[0;34m(config)\u001b[0m\n\u001b[1;32m    194\u001b[0m \u001b[39mtry\u001b[39;00m:\n\u001b[1;32m    195\u001b[0m     _db_service \u001b[39m=\u001b[39m fos\u001b[39m.\u001b[39mDatabaseService()\n\u001b[0;32m--> 196\u001b[0m     port \u001b[39m=\u001b[39m _db_service\u001b[39m.\u001b[39;49mport\n\u001b[1;32m    197\u001b[0m     _connection_kwargs[\u001b[39m\"\u001b[39m\u001b[39mport\u001b[39m\u001b[39m\"\u001b[39m] \u001b[39m=\u001b[39m port\n\u001b[1;32m    198\u001b[0m     os\u001b[39m.\u001b[39menviron[\u001b[39m\"\u001b[39m\u001b[39mFIFTYONE_PRIVATE_DATABASE_PORT\u001b[39m\u001b[39m\"\u001b[39m] \u001b[39m=\u001b[39m \u001b[39mstr\u001b[39m(port)\n",
      "File \u001b[0;32m~/miniforge3/lib/python3.10/site-packages/fiftyone/core/service.py:276\u001b[0m, in \u001b[0;36mDatabaseService.port\u001b[0;34m(self)\u001b[0m\n\u001b[1;32m    274\u001b[0m \u001b[39m@property\u001b[39m\n\u001b[1;32m    275\u001b[0m \u001b[39mdef\u001b[39;00m \u001b[39mport\u001b[39m(\u001b[39mself\u001b[39m):\n\u001b[0;32m--> 276\u001b[0m     \u001b[39mreturn\u001b[39;00m \u001b[39mself\u001b[39;49m\u001b[39m.\u001b[39;49m_wait_for_child_port()\n",
      "File \u001b[0;32m~/miniforge3/lib/python3.10/site-packages/fiftyone/core/service.py:170\u001b[0m, in \u001b[0;36mService._wait_for_child_port\u001b[0;34m(self, port, timeout)\u001b[0m\n\u001b[1;32m    166\u001b[0m             \u001b[39mpass\u001b[39;00m\n\u001b[1;32m    168\u001b[0m     \u001b[39mraise\u001b[39;00m ServiceListenTimeout(etau\u001b[39m.\u001b[39mget_class_name(\u001b[39mself\u001b[39m), port)\n\u001b[0;32m--> 170\u001b[0m \u001b[39mreturn\u001b[39;00m find_port()\n",
      "File \u001b[0;32m~/miniforge3/lib/python3.10/site-packages/retrying.py:56\u001b[0m, in \u001b[0;36mretry.<locals>.wrap.<locals>.wrapped_f\u001b[0;34m(*args, **kw)\u001b[0m\n\u001b[1;32m     54\u001b[0m \u001b[39m@six\u001b[39m\u001b[39m.\u001b[39mwraps(f)\n\u001b[1;32m     55\u001b[0m \u001b[39mdef\u001b[39;00m \u001b[39mwrapped_f\u001b[39m(\u001b[39m*\u001b[39margs, \u001b[39m*\u001b[39m\u001b[39m*\u001b[39mkw):\n\u001b[0;32m---> 56\u001b[0m     \u001b[39mreturn\u001b[39;00m Retrying(\u001b[39m*\u001b[39;49mdargs, \u001b[39m*\u001b[39;49m\u001b[39m*\u001b[39;49mdkw)\u001b[39m.\u001b[39;49mcall(f, \u001b[39m*\u001b[39;49margs, \u001b[39m*\u001b[39;49m\u001b[39m*\u001b[39;49mkw)\n",
      "File \u001b[0;32m~/miniforge3/lib/python3.10/site-packages/retrying.py:266\u001b[0m, in \u001b[0;36mRetrying.call\u001b[0;34m(self, fn, *args, **kwargs)\u001b[0m\n\u001b[1;32m    263\u001b[0m \u001b[39mif\u001b[39;00m \u001b[39mself\u001b[39m\u001b[39m.\u001b[39mstop(attempt_number, delay_since_first_attempt_ms):\n\u001b[1;32m    264\u001b[0m     \u001b[39mif\u001b[39;00m \u001b[39mnot\u001b[39;00m \u001b[39mself\u001b[39m\u001b[39m.\u001b[39m_wrap_exception \u001b[39mand\u001b[39;00m attempt\u001b[39m.\u001b[39mhas_exception:\n\u001b[1;32m    265\u001b[0m         \u001b[39m# get() on an attempt with an exception should cause it to be raised, but raise just in case\u001b[39;00m\n\u001b[0;32m--> 266\u001b[0m         \u001b[39mraise\u001b[39;00m attempt\u001b[39m.\u001b[39;49mget()\n\u001b[1;32m    267\u001b[0m     \u001b[39melse\u001b[39;00m:\n\u001b[1;32m    268\u001b[0m         \u001b[39mraise\u001b[39;00m RetryError(attempt)\n",
      "File \u001b[0;32m~/miniforge3/lib/python3.10/site-packages/retrying.py:301\u001b[0m, in \u001b[0;36mAttempt.get\u001b[0;34m(self, wrap_exception)\u001b[0m\n\u001b[1;32m    299\u001b[0m         \u001b[39mraise\u001b[39;00m RetryError(\u001b[39mself\u001b[39m)\n\u001b[1;32m    300\u001b[0m     \u001b[39melse\u001b[39;00m:\n\u001b[0;32m--> 301\u001b[0m         six\u001b[39m.\u001b[39;49mreraise(\u001b[39mself\u001b[39;49m\u001b[39m.\u001b[39;49mvalue[\u001b[39m0\u001b[39;49m], \u001b[39mself\u001b[39;49m\u001b[39m.\u001b[39;49mvalue[\u001b[39m1\u001b[39;49m], \u001b[39mself\u001b[39;49m\u001b[39m.\u001b[39;49mvalue[\u001b[39m2\u001b[39;49m])\n\u001b[1;32m    302\u001b[0m \u001b[39melse\u001b[39;00m:\n\u001b[1;32m    303\u001b[0m     \u001b[39mreturn\u001b[39;00m \u001b[39mself\u001b[39m\u001b[39m.\u001b[39mvalue\n",
      "File \u001b[0;32m~/miniforge3/lib/python3.10/site-packages/six.py:719\u001b[0m, in \u001b[0;36mreraise\u001b[0;34m(tp, value, tb)\u001b[0m\n\u001b[1;32m    717\u001b[0m     \u001b[39mif\u001b[39;00m value\u001b[39m.\u001b[39m__traceback__ \u001b[39mis\u001b[39;00m \u001b[39mnot\u001b[39;00m tb:\n\u001b[1;32m    718\u001b[0m         \u001b[39mraise\u001b[39;00m value\u001b[39m.\u001b[39mwith_traceback(tb)\n\u001b[0;32m--> 719\u001b[0m     \u001b[39mraise\u001b[39;00m value\n\u001b[1;32m    720\u001b[0m \u001b[39mfinally\u001b[39;00m:\n\u001b[1;32m    721\u001b[0m     value \u001b[39m=\u001b[39m \u001b[39mNone\u001b[39;00m\n",
      "File \u001b[0;32m~/miniforge3/lib/python3.10/site-packages/retrying.py:251\u001b[0m, in \u001b[0;36mRetrying.call\u001b[0;34m(self, fn, *args, **kwargs)\u001b[0m\n\u001b[1;32m    248\u001b[0m     \u001b[39mself\u001b[39m\u001b[39m.\u001b[39m_before_attempts(attempt_number)\n\u001b[1;32m    250\u001b[0m \u001b[39mtry\u001b[39;00m:\n\u001b[0;32m--> 251\u001b[0m     attempt \u001b[39m=\u001b[39m Attempt(fn(\u001b[39m*\u001b[39;49margs, \u001b[39m*\u001b[39;49m\u001b[39m*\u001b[39;49mkwargs), attempt_number, \u001b[39mFalse\u001b[39;00m)\n\u001b[1;32m    252\u001b[0m \u001b[39mexcept\u001b[39;00m:\n\u001b[1;32m    253\u001b[0m     tb \u001b[39m=\u001b[39m sys\u001b[39m.\u001b[39mexc_info()\n",
      "File \u001b[0;32m~/miniforge3/lib/python3.10/site-packages/fiftyone/core/service.py:168\u001b[0m, in \u001b[0;36mService._wait_for_child_port.<locals>.find_port\u001b[0;34m()\u001b[0m\n\u001b[1;32m    165\u001b[0m     \u001b[39mexcept\u001b[39;00m psutil\u001b[39m.\u001b[39mError:\n\u001b[1;32m    166\u001b[0m         \u001b[39mpass\u001b[39;00m\n\u001b[0;32m--> 168\u001b[0m \u001b[39mraise\u001b[39;00m ServiceListenTimeout(etau\u001b[39m.\u001b[39mget_class_name(\u001b[39mself\u001b[39m), port)\n",
      "\u001b[0;31mServiceListenTimeout\u001b[0m: fiftyone.core.service.DatabaseService failed to bind to port"
     ]
    }
   ],
   "source": [
    "import fiftyone as fo\n",
    "\n",
    "#load a dataset inside the dataset1 directory the data is of type coco\n",
    "dataset = fo.Dataset.from_dir(\n",
    "    r\"/Users/thomasrye/Documents/github/Foocus-Logodetection/bigData1\",\n",
    "    fo.types.COCODetectionDataset,\n",
    "    label_field=\"ground_truth\",\n",
    "    annotation_path=\"test.json\"  # Add this line\n",
    "\n",
    ")\n",
    "\n",
    "session = fo.launch_app(dataset)"
   ]
  },
  {
   "cell_type": "code",
   "execution_count": null,
   "metadata": {},
   "outputs": [],
   "source": []
  },
  {
   "cell_type": "code",
   "execution_count": null,
   "metadata": {},
   "outputs": [],
   "source": []
  },
  {
   "cell_type": "code",
   "execution_count": null,
   "metadata": {},
   "outputs": [],
   "source": []
  },
  {
   "cell_type": "code",
   "execution_count": null,
   "metadata": {},
   "outputs": [],
   "source": []
  },
  {
   "cell_type": "code",
   "execution_count": null,
   "metadata": {},
   "outputs": [],
   "source": []
  },
  {
   "cell_type": "code",
   "execution_count": null,
   "metadata": {},
   "outputs": [],
   "source": []
  },
  {
   "cell_type": "code",
   "execution_count": null,
   "metadata": {},
   "outputs": [],
   "source": [
    "taining_dataset = fo.Dataset.from_dir(\n",
    "    r\"C:\\Users\\thoma\\Documents\\Github\\Foocus-Logodetection\\dataset\",\n",
    "    fo.types.COCODetectionDataset,\n",
    "    label_field=\"ground_truth\",\n",
    "    annotation_path=\"train.json\"  # Add this line\n",
    ")\n",
    "\n",
    "session = fo.launch_app(taining_dataset)"
   ]
  },
  {
   "cell_type": "code",
   "execution_count": null,
   "metadata": {},
   "outputs": [],
   "source": [
    "testing_dataset = fo.Dataset.from_dir(\n",
    "    r\"C:\\Users\\thoma\\Documents\\Github\\Foocus-Logodetection\\dataset\",\n",
    "    fo.types.COCODetectionDataset,\n",
    "    label_field=\"ground_truth\",\n",
    "    annotation_path=\"mvpDataset.json\"  # Add this line\n",
    ")\n",
    "\n",
    "session = fo.launch_app(testing_dataset)"
   ]
  },
  {
   "cell_type": "code",
   "execution_count": null,
   "metadata": {},
   "outputs": [],
   "source": [
    "from torchvision.models import resnet50, ResNet50_Weights\n",
    "resnet50(weights=ResNet50_Weights.DEFAULT)\n"
   ]
  },
  {
   "cell_type": "code",
   "execution_count": null,
   "metadata": {},
   "outputs": [],
   "source": [
    "weights=ResNet50_Weights.DEFAULT\n",
    "model = resnet50(weights=weights)\n",
    "\n",
    "model.eval()\n"
   ]
  }
 ],
 "metadata": {
  "kernelspec": {
   "display_name": "Python 3",
   "language": "python",
   "name": "python3"
  },
  "language_info": {
   "codemirror_mode": {
    "name": "ipython",
    "version": 3
   },
   "file_extension": ".py",
   "mimetype": "text/x-python",
   "name": "python",
   "nbconvert_exporter": "python",
   "pygments_lexer": "ipython3",
   "version": "3.10.10"
  },
  "orig_nbformat": 4,
  "vscode": {
   "interpreter": {
    "hash": "369f2c481f4da34e4445cda3fffd2e751bd1c4d706f27375911949ba6bb62e1c"
   }
  }
 },
 "nbformat": 4,
 "nbformat_minor": 2
}
