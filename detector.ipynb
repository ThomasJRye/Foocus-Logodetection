{
 "cells": [
  {
   "cell_type": "code",
   "execution_count": null,
   "metadata": {},
   "outputs": [],
   "source": [
    "import torch\n",
    "import torchvision\n",
    "import torchvision.transforms as transforms"
   ]
  },
  {
   "cell_type": "code",
   "execution_count": 5,
   "metadata": {},
   "outputs": [],
   "source": [
    "import csv\n",
    "import json\n",
    "\n",
    "# Define the path to the COCO JSON file\n",
    "coco_json_file = \"bigData1/labels.json\"\n",
    "\n",
    "# Load the COCO JSON file\n",
    "with open(coco_json_file, \"r\") as f:\n",
    "    coco_data = json.load(f)\n",
    "\n",
    "category_counts = []\n",
    "\n",
    "# Update the category IDs\n",
    "for category in coco_data[\"categories\"]:\n",
    "    category_counts.append({\"id\": category[\"id\"], \"name\": category[\"name\"], \"count\": 0})\n",
    "\n",
    "# Update the category IDs in the annotations\n",
    "for annotation in coco_data[\"annotations\"]:\n",
    "    for category in category_counts:\n",
    "        if category[\"id\"] == annotation[\"category_id\"]:\n",
    "            category[\"count\"] += 1\n",
    "\n",
    "# Save the updated COCO JSON file\n",
    "with open(\"category_counts.csv\", \"w\", newline='') as f:\n",
    "    writer = csv.writer(f)\n",
    "    writer.writerow([\"id\", \"name\", \"count\"])\n",
    "    for category in category_counts:\n",
    "        writer.writerow([category[\"id\"], category[\"name\"], category[\"count\"]])\n"
   ]
  },
  {
   "cell_type": "code",
   "execution_count": 9,
   "metadata": {},
   "outputs": [],
   "source": [
    "import pandas as pd\n",
    "\n",
    "# Read the two tables into pandas dataframes\n",
    "df1 = pd.read_csv(\"category_counts.csv\")\n",
    "df2 = pd.read_csv(\"qualiy.csv\")\n",
    "\n",
    "\n",
    "# Perform a left join on the \"name\" column\n",
    "result = pd.merge(df1, df2, on=\"name\", how=\"left\")\n",
    "\n",
    "# Save the result to a new CSV file\n",
    "result.to_csv(\"combined_table.csv\", index=False)\n"
   ]
  },
  {
   "cell_type": "code",
   "execution_count": null,
   "metadata": {},
   "outputs": [],
   "source": []
  },
  {
   "cell_type": "code",
   "execution_count": null,
   "metadata": {},
   "outputs": [],
   "source": []
  },
  {
   "cell_type": "code",
   "execution_count": null,
   "metadata": {},
   "outputs": [],
   "source": []
  },
  {
   "cell_type": "code",
   "execution_count": null,
   "metadata": {},
   "outputs": [],
   "source": []
  },
  {
   "cell_type": "code",
   "execution_count": null,
   "metadata": {},
   "outputs": [],
   "source": []
  },
  {
   "cell_type": "code",
   "execution_count": null,
   "metadata": {},
   "outputs": [],
   "source": []
  },
  {
   "cell_type": "code",
   "execution_count": null,
   "metadata": {},
   "outputs": [],
   "source": []
  },
  {
   "cell_type": "code",
   "execution_count": 6,
   "metadata": {},
   "outputs": [
    {
     "name": "stdout",
     "output_type": "stream",
     "text": [
      "Ignoring unsupported parameter 'annotation_path' for importer type <class 'fiftyone.utils.coco.COCODetectionDatasetImporter'>\n",
      " 100% |███████████████| 2425/2425 [4.2s elapsed, 0s remaining, 477.6 samples/s]      \n"
     ]
    },
    {
     "data": {
      "text/html": [
       "\n",
       "        <iframe\n",
       "            width=\"100%\"\n",
       "            height=\"800\"\n",
       "            src=\"http://localhost:5151/?notebook=True&subscription=78c193a1-4586-4e82-8535-83763c22ee5f\"\n",
       "            frameborder=\"0\"\n",
       "            allowfullscreen\n",
       "            \n",
       "        ></iframe>\n",
       "        "
      ],
      "text/plain": [
       "<IPython.lib.display.IFrame at 0x2a9e4a6e0>"
      ]
     },
     "metadata": {},
     "output_type": "display_data"
    }
   ],
   "source": [
    "import fiftyone as fo\n",
    "\n",
    "#load a dataset inside the dataset1 directory the data is of type coco\n",
    "dataset = fo.Dataset.from_dir(\n",
    "    r\"/Users/thomasrye/Documents/github/Foocus-Logodetection/bigData1\",\n",
    "    fo.types.COCODetectionDataset,\n",
    "    label_field=\"ground_truth\",\n",
    "    annotation_path=\"test.json\"  # Add this line\n",
    "\n",
    ")\n",
    "\n",
    "session = fo.launch_app(dataset)"
   ]
  },
  {
   "cell_type": "code",
   "execution_count": null,
   "metadata": {},
   "outputs": [],
   "source": []
  },
  {
   "cell_type": "code",
   "execution_count": null,
   "metadata": {},
   "outputs": [],
   "source": []
  },
  {
   "cell_type": "code",
   "execution_count": null,
   "metadata": {},
   "outputs": [],
   "source": []
  },
  {
   "cell_type": "code",
   "execution_count": null,
   "metadata": {},
   "outputs": [],
   "source": []
  },
  {
   "cell_type": "code",
   "execution_count": null,
   "metadata": {},
   "outputs": [],
   "source": []
  },
  {
   "cell_type": "code",
   "execution_count": null,
   "metadata": {},
   "outputs": [],
   "source": [
    "taining_dataset = fo.Dataset.from_dir(\n",
    "    r\"C:\\Users\\thoma\\Documents\\Github\\Foocus-Logodetection\\dataset\",\n",
    "    fo.types.COCODetectionDataset,\n",
    "    label_field=\"ground_truth\",\n",
    "    annotation_path=\"train.json\"  # Add this line\n",
    ")\n",
    "\n",
    "session = fo.launch_app(taining_dataset)"
   ]
  },
  {
   "cell_type": "code",
   "execution_count": null,
   "metadata": {},
   "outputs": [],
   "source": [
    "testing_dataset = fo.Dataset.from_dir(\n",
    "    r\"C:\\Users\\thoma\\Documents\\Github\\Foocus-Logodetection\\dataset\",\n",
    "    fo.types.COCODetectionDataset,\n",
    "    label_field=\"ground_truth\",\n",
    "    annotation_path=\"mvpDataset.json\"  # Add this line\n",
    ")\n",
    "\n",
    "session = fo.launch_app(testing_dataset)"
   ]
  },
  {
   "cell_type": "code",
   "execution_count": null,
   "metadata": {},
   "outputs": [],
   "source": [
    "from torchvision.models import resnet50, ResNet50_Weights\n",
    "resnet50(weights=ResNet50_Weights.DEFAULT)\n"
   ]
  },
  {
   "cell_type": "code",
   "execution_count": null,
   "metadata": {},
   "outputs": [],
   "source": [
    "weights=ResNet50_Weights.DEFAULT\n",
    "model = resnet50(weights=weights)\n",
    "\n",
    "model.eval()\n"
   ]
  }
 ],
 "metadata": {
  "kernelspec": {
   "display_name": "Python 3",
   "language": "python",
   "name": "python3"
  },
  "language_info": {
   "codemirror_mode": {
    "name": "ipython",
    "version": 3
   },
   "file_extension": ".py",
   "mimetype": "text/x-python",
   "name": "python",
   "nbconvert_exporter": "python",
   "pygments_lexer": "ipython3",
   "version": "3.10.10"
  },
  "orig_nbformat": 4,
  "vscode": {
   "interpreter": {
    "hash": "369f2c481f4da34e4445cda3fffd2e751bd1c4d706f27375911949ba6bb62e1c"
   }
  }
 },
 "nbformat": 4,
 "nbformat_minor": 2
}
