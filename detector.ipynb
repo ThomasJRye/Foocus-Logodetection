{
 "cells": [
  {
   "cell_type": "code",
   "execution_count": null,
   "metadata": {},
   "outputs": [],
   "source": [
    "import torch\n",
    "import torchvision\n",
    "import torchvision.transforms as transforms"
   ]
  },
  {
   "cell_type": "code",
   "execution_count": null,
   "metadata": {},
   "outputs": [],
   "source": [
    "import json\n",
    "\n",
    "# Define the path to the COCO JSON file\n",
    "coco_json_file = \"mvpDataset/mvpDataset.json\"\n",
    "\n",
    "# Load the COCO JSON file\n",
    "with open(coco_json_file, \"r\") as f:\n",
    "    coco_data = json.load(f)\n",
    "\n",
    "# Create a mapping for the new category IDs\n",
    "category_id_mapping = {category[\"id\"]: idx + 1 for idx, category in enumerate(coco_data[\"categories\"])}\n",
    "\n",
    "# Update the category IDs\n",
    "for category in coco_data[\"categories\"]:\n",
    "    category[\"id\"] = category_id_mapping[category[\"id\"]]\n",
    "\n",
    "# Update the category IDs in the annotations\n",
    "for annotation in coco_data[\"annotations\"]:\n",
    "    try:\n",
    "        annotation[\"category_id\"] = category_id_mapping[annotation[\"category_id\"]]\n",
    "    except KeyError:\n",
    "        print(f\"Warning: Category ID {annotation['category_id']} not found in the category list.\")\n",
    "\n",
    "# Save the updated COCO JSON file\n",
    "with open(\"updated_mvpDataset.json\", \"w\") as f:\n",
    "    json.dump(coco_data, f, indent=2)\n"
   ]
  },
  {
   "cell_type": "code",
   "execution_count": null,
   "metadata": {},
   "outputs": [],
   "source": [
    "import fiftyone as fo\n",
    "\n",
    "#load a dataset inside the dataset1 directory the data is of type coco\n",
    "dataset = fo.Dataset.from_dir(\n",
    "    r\"C:\\Users\\thoma\\Documents\\Github\\Foocus-Logodetection\\bigData1\",\n",
    "    fo.types.COCODetectionDataset,\n",
    "    label_field=\"ground_truth\",\n",
    "    annotation_path=\"labels.json\"  # Add this line\n",
    "\n",
    ")\n",
    "\n",
    "session = fo.launch_app(dataset)"
   ]
  },
  {
   "cell_type": "code",
   "execution_count": null,
   "metadata": {},
   "outputs": [],
   "source": [
    "taining_dataset = fo.Dataset.from_dir(\n",
    "    r\"C:\\Users\\thoma\\Documents\\Github\\Foocus-Logodetection\\dataset\",\n",
    "    fo.types.COCODetectionDataset,\n",
    "    label_field=\"ground_truth\",\n",
    "    annotation_path=\"train.json\"  # Add this line\n",
    ")\n",
    "\n",
    "session = fo.launch_app(taining_dataset)"
   ]
  },
  {
   "cell_type": "code",
   "execution_count": null,
   "metadata": {},
   "outputs": [],
   "source": [
    "testing_dataset = fo.Dataset.from_dir(\n",
    "    r\"C:\\Users\\thoma\\Documents\\Github\\Foocus-Logodetection\\dataset\",\n",
    "    fo.types.COCODetectionDataset,\n",
    "    label_field=\"ground_truth\",\n",
    "    annotation_path=\"mvpDataset.json\"  # Add this line\n",
    ")\n",
    "\n",
    "session = fo.launch_app(testing_dataset)"
   ]
  },
  {
   "cell_type": "code",
   "execution_count": null,
   "metadata": {},
   "outputs": [],
   "source": [
    "from torchvision.models import resnet50, ResNet50_Weights\n",
    "resnet50(weights=ResNet50_Weights.DEFAULT)\n"
   ]
  },
  {
   "cell_type": "code",
   "execution_count": null,
   "metadata": {},
   "outputs": [],
   "source": [
    "weights=ResNet50_Weights.DEFAULT\n",
    "model = resnet50(weights=weights)\n",
    "\n",
    "model.eval()\n"
   ]
  }
 ],
 "metadata": {
  "kernelspec": {
   "display_name": "Python 3",
   "language": "python",
   "name": "python3"
  },
  "language_info": {
   "codemirror_mode": {
    "name": "ipython",
    "version": 3
   },
   "file_extension": ".py",
   "mimetype": "text/x-python",
   "name": "python",
   "nbconvert_exporter": "python",
   "pygments_lexer": "ipython3",
   "version": "3.10.7"
  },
  "orig_nbformat": 4,
  "vscode": {
   "interpreter": {
    "hash": "369f2c481f4da34e4445cda3fffd2e751bd1c4d706f27375911949ba6bb62e1c"
   }
  }
 },
 "nbformat": 4,
 "nbformat_minor": 2
}
