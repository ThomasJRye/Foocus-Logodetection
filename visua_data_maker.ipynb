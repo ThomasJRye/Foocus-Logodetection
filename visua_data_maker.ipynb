{
 "cells": [
  {
   "cell_type": "code",
   "execution_count": 9,
   "metadata": {},
   "outputs": [],
   "source": [
    "import os\n",
    "import psycopg2\n",
    "from dotenv import load_dotenv\n",
    "import mysql.connector\n",
    "import boto3\n",
    "import json\n",
    "from datetime import datetime\n",
    "import cv2\n",
    "import matplotlib.pyplot as plt\n",
    "import numpy as np\n",
    "from imp import load_module\n",
    "from model import get_model\n"
   ]
  },
  {
   "cell_type": "code",
   "execution_count": 8,
   "metadata": {},
   "outputs": [],
   "source": [
    "\n",
    "def import_from_S3(S3directory, filename, outputDirectory):\n",
    "\n",
    "    # load environment variables from .env file\n",
    "    load_dotenv()\n",
    "\n",
    "    # access specific s3 bucket\n",
    "    bucket_name = os.getenv('AWS_BUCKET')\n",
    "\n",
    "    # create an S3 client\n",
    "    s3 = boto3.client('s3')\n",
    "\n",
    "    # list all of the buckets in your account\n",
    "    response = s3.list_buckets()\n",
    "    print(response)\n",
    "\n",
    "\n",
    "    print(S3directory + filename)\n",
    "\n",
    "    s3.download_file(bucket_name, S3directory + filename, outputDirectory + filename)\n"
   ]
  },
  {
   "cell_type": "code",
   "execution_count": 9,
   "metadata": {},
   "outputs": [
    {
     "name": "stdout",
     "output_type": "stream",
     "text": [
      "7801171_2021_05_09_MOL_KBK_1st_Half_445d25.mp4\n"
     ]
    }
   ],
   "source": [
    "\n",
    "load_dotenv()\n",
    "host=os.getenv('DB_HOST')\n",
    "\n",
    "conn = mysql.connector.connect(\n",
    "    host=os.getenv('DB_HOST'),\n",
    "    user=os.getenv('DB_USERNAME'),\n",
    "    password= os.getenv('DB_PASSWORD'),\n",
    "    database=os.getenv('DB_DATABASE'),\n",
    "    port=os.getenv('DB_PORT')\n",
    ")\n",
    "\n",
    "cursor = conn.cursor()\n",
    "\n",
    "query = \"select url from logograb_videos where id = 5\"\n",
    "\n",
    "cursor.execute(query)\n",
    "\n",
    "result = cursor.fetchall()\n",
    "video_url = result[0][0]\n",
    "filename = video_url.replace('http://spect8-static.s3.amazonaws.com/', '')\n",
    "print(filename)\n",
    "\n",
    "#import_from_S3('', filename, '.\\\\visua\\\\videos\\\\')\n",
    "\n"
   ]
  },
  {
   "cell_type": "code",
   "execution_count": 10,
   "metadata": {},
   "outputs": [],
   "source": [
    "def getFrame(seconds, fps, video_url):\n",
    "    cap = cv2.VideoCapture(video_url)\n",
    "    cap.set(cv2.CAP_PROP_POS_FRAMES, seconds * fps)\n",
    "    ret, frame = cap.read()\n",
    "    return frame"
   ]
  },
  {
   "cell_type": "code",
   "execution_count": 11,
   "metadata": {},
   "outputs": [],
   "source": [
    "def plot(frame, rect = None):\n",
    "    #x, y, w, h = 150, 50, 200, 200\n",
    "    if rect is not None:\n",
    "        rect = np.array(rect, dtype=np.int32)\n",
    "        color = (0, 0, 255)\n",
    "        thickness = 2\n",
    "        #frame = cv2.rectangle(frame, (x, y), (x+w, y+h), color, thickness)\n",
    "        cv2.polylines(frame, [rect], True, (0, 0, 255), 2)\n",
    "    \n",
    "    # Convert the frame to RGB\n",
    "    frame = cv2.cvtColor(frame, cv2.COLOR_BGR2RGB)\n",
    "\n",
    "    # Plot the frame using matplotlib\n",
    "    plt.imshow(frame)\n",
    "    plt.axis(\"off\")\n",
    "    plt.show()"
   ]
  },
  {
   "cell_type": "code",
   "execution_count": 12,
   "metadata": {},
   "outputs": [],
   "source": [
    "def video_to_frames(video, framecount = 100):\n",
    "\n",
    "    # Get the total number of frames in the video\n",
    "    total_frames = int(video.get(cv2.CAP_PROP_FRAME_COUNT))\n",
    "\n",
    "    # Set the starting frame number\n",
    "    frame_number = 0\n",
    "\n",
    "    # Loop through each frame in the video\n",
    "    while video.isOpened():\n",
    "        # Read the next frame\n",
    "        ret, frame = video.read()\n",
    "\n",
    "        # Check if frame was read successfully\n",
    "        if ret:\n",
    "            # Save the frame as a JPEG image\n",
    "            filename = f\"frame_{frame_number:06d}.jpg\"\n",
    "            cv2.imwrite('./images/' + filename, frame)\n",
    "\n",
    "            # Increment the frame number\n",
    "            frame_number += 1\n",
    "        else:\n",
    "            break\n",
    "\n"
   ]
  },
  {
   "cell_type": "code",
   "execution_count": 13,
   "metadata": {},
   "outputs": [],
   "source": [
    "def saveFrames(url, numberOfImages, startID):\n",
    "    id = startID\n",
    "\n",
    "    video = cv2.VideoCapture(url)\n",
    "    number_of_fames = video.get(cv2.CAP_PROP_FRAME_COUNT)\n",
    "    # Get the total number of frames in the video\n",
    "    frame_count = video.get(cv2.CAP_PROP_FRAME_COUNT)\n",
    "\n",
    "    # Get the frames per second (fps) of the video\n",
    "    fps = video.get(cv2.CAP_PROP_FPS)\n",
    "\n",
    "    # Calculate the length of the video in seconds\n",
    "    video_length = frame_count / fps\n",
    "\n",
    "    skip = video_length/numberOfImages\n",
    "    for i in range(numberOfImages):\n",
    "        #def getFrame(seconds, fps, video_url):\n",
    "\n",
    "        frame = getFrame(seconds=i*skip, fps=25, video_url=url)\n",
    "        print(i*skip)\n",
    "        # plot(frame)\n",
    "        cv2.imwrite('./images/' + str(id) + '.jpg', frame)\n",
    "\n",
    "        id += 1"
   ]
  },
  {
   "cell_type": "code",
   "execution_count": 14,
   "metadata": {},
   "outputs": [],
   "source": [
    "def two_tofour_coordinates(x1, y1, x2, y2):\n",
    "    points = np.array([[x1, y2], [x1, y1], [x2, y1], [x2, y2]], np.int32)\n",
    "    return points"
   ]
  },
  {
   "cell_type": "code",
   "execution_count": 10,
   "metadata": {},
   "outputs": [],
   "source": [
    "\n",
    "\n",
    "def detect_and_plot(image, model):\n",
    "    # Detect the objects in the image\n",
    "    results = model.detect([image], verbose=0)\n",
    "\n",
    "    # Get the first result\n",
    "    r = results[0]\n",
    "\n",
    "\n",
    "    # Plot the image with the bounding boxes\n",
    "    plot(image, rect=r['rois'][0])\n",
    "\n",
    "model = get_model()\n",
    "\n"
   ]
  },
  {
   "cell_type": "code",
   "execution_count": null,
   "metadata": {},
   "outputs": [],
   "source": []
  }
 ],
 "metadata": {
  "kernelspec": {
   "display_name": "Python 3",
   "language": "python",
   "name": "python3"
  },
  "language_info": {
   "codemirror_mode": {
    "name": "ipython",
    "version": 3
   },
   "file_extension": ".py",
   "mimetype": "text/x-python",
   "name": "python",
   "nbconvert_exporter": "python",
   "pygments_lexer": "ipython3",
   "version": "3.10.7"
  },
  "orig_nbformat": 4,
  "vscode": {
   "interpreter": {
    "hash": "369f2c481f4da34e4445cda3fffd2e751bd1c4d706f27375911949ba6bb62e1c"
   }
  }
 },
 "nbformat": 4,
 "nbformat_minor": 2
}
